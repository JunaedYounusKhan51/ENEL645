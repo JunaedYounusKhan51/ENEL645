{
  "cells": [
    {
      "cell_type": "markdown",
      "metadata": {
        "id": "view-in-github",
        "colab_type": "text"
      },
      "source": [
        "<a href=\"https://colab.research.google.com/github/JunaedYounusKhan51/ENEL645/blob/main/Assignment-1/assignment01_python_numpy_programming_Group4.ipynb\" target=\"_parent\"><img src=\"https://colab.research.google.com/assets/colab-badge.svg\" alt=\"Open In Colab\"/></a>"
      ]
    },
    {
      "cell_type": "markdown",
      "metadata": {
        "id": "pAnwmLzq-H55"
      },
      "source": [
        "# Assignment #01\n",
        "\n",
        "This assignment is composed of multiple Python and NumPy programming exercises. The deliverable of this assignment is this jupyter-notebook completed with your solution.\n",
        "\n",
        "The delivery instructions are the following:\n",
        "    - Create a GitHub repository for your team. You are free to choose its name. This repository will be used to delvier the programming assignments and the code of your team's final project.\n",
        "    - Create a folder assignment-01 in the repository. Put the jupyter-notebook with your solution in this repository and post the repository link in your team's D2L dropbox for the assignment.\n",
        "\n",
        "You are being assessed based on:\n",
        "\n",
        "1. Code execution - 25% \n",
        "2. Clarity of the code (e.g., easy to follow, has pertinent comments, etc.) - 25%\n",
        "3. Proper usage of the techniques seen in class - 25%\n",
        "    - remember to avoid explicit Python loops!  \n",
        "4. Quality and correcteness of the results - 25%\n",
        "\n",
        "More details about the assessment are available in the rubric document in the class GitHub repository.\n",
        "\n",
        "Points distribution:\n",
        "- Question 2-21: 3 points per question \n",
        "- Questions 22-26: 8 points per question (total 40)\n",
        "- Total: 100 ponits"
      ],
      "id": "pAnwmLzq-H55"
    },
    {
      "cell_type": "markdown",
      "metadata": {
        "id": "VPhwJ5KK_TMM"
      },
      "source": [
        "**0. Cloning GitHub Repo of this Assignment**"
      ],
      "id": "VPhwJ5KK_TMM"
    },
    {
      "cell_type": "code",
      "execution_count": null,
      "metadata": {
        "colab": {
          "base_uri": "https://localhost:8080/"
        },
        "id": "GK6rc_sr_R_t",
        "outputId": "ae2e727d-eed3-45cf-9bcb-2f68ac407df7"
      },
      "outputs": [
        {
          "name": "stdout",
          "output_type": "stream",
          "text": [
            "Cloning into 'ENEL645'...\n",
            "remote: Enumerating objects: 399, done.\u001b[K\n",
            "remote: Counting objects: 100% (44/44), done.\u001b[K\n",
            "remote: Compressing objects: 100% (34/34), done.\u001b[K\n",
            "remote: Total 399 (delta 16), reused 31 (delta 8), pack-reused 355\u001b[K\n",
            "Receiving objects: 100% (399/399), 136.13 MiB | 36.76 MiB/s, done.\n",
            "Resolving deltas: 100% (175/175), done.\n"
          ]
        }
      ],
      "source": [
        "! git clone https://github.com/rmsouza01/ENEL645.git"
      ],
      "id": "GK6rc_sr_R_t"
    },
    {
      "cell_type": "code",
      "execution_count": null,
      "metadata": {
        "id": "l2lqDS8O-H56"
      },
      "outputs": [],
      "source": [
        "import matplotlib.pylab as plt"
      ],
      "id": "l2lqDS8O-H56"
    },
    {
      "cell_type": "markdown",
      "metadata": {
        "id": "RY-TNn5W-H57"
      },
      "source": [
        "**1. Import the numpy package under the name np**"
      ],
      "id": "RY-TNn5W-H57"
    },
    {
      "cell_type": "code",
      "execution_count": null,
      "metadata": {
        "id": "-Zli1wY_-H57"
      },
      "outputs": [],
      "source": [
        "import numpy as np"
      ],
      "id": "-Zli1wY_-H57"
    },
    {
      "cell_type": "markdown",
      "metadata": {
        "id": "KJsUwMyM_ACF"
      },
      "source": [
        "# New Section"
      ],
      "id": "KJsUwMyM_ACF"
    },
    {
      "cell_type": "markdown",
      "metadata": {
        "id": "m72fTiaX-H58"
      },
      "source": [
        "**2. Print the numpy version and the configuration**"
      ],
      "id": "m72fTiaX-H58"
    },
    {
      "cell_type": "code",
      "execution_count": null,
      "metadata": {
        "colab": {
          "base_uri": "https://localhost:8080/"
        },
        "id": "qdYvn5wh-H58",
        "outputId": "be8b5924-6809-4df6-e27e-1dedeaf12058"
      },
      "outputs": [
        {
          "name": "stdout",
          "output_type": "stream",
          "text": [
            "1.19.5\n",
            "blas_mkl_info:\n",
            "  NOT AVAILABLE\n",
            "blis_info:\n",
            "  NOT AVAILABLE\n",
            "openblas_info:\n",
            "    libraries = ['openblas', 'openblas']\n",
            "    library_dirs = ['/usr/local/lib']\n",
            "    language = c\n",
            "    define_macros = [('HAVE_CBLAS', None)]\n",
            "blas_opt_info:\n",
            "    libraries = ['openblas', 'openblas']\n",
            "    library_dirs = ['/usr/local/lib']\n",
            "    language = c\n",
            "    define_macros = [('HAVE_CBLAS', None)]\n",
            "lapack_mkl_info:\n",
            "  NOT AVAILABLE\n",
            "openblas_lapack_info:\n",
            "    libraries = ['openblas', 'openblas']\n",
            "    library_dirs = ['/usr/local/lib']\n",
            "    language = c\n",
            "    define_macros = [('HAVE_CBLAS', None)]\n",
            "lapack_opt_info:\n",
            "    libraries = ['openblas', 'openblas']\n",
            "    library_dirs = ['/usr/local/lib']\n",
            "    language = c\n",
            "    define_macros = [('HAVE_CBLAS', None)]\n",
            "None\n"
          ]
        }
      ],
      "source": [
        "print(np.__version__)\n",
        "print(np.show_config())"
      ],
      "id": "qdYvn5wh-H58"
    },
    {
      "cell_type": "markdown",
      "metadata": {
        "id": "U48ily78-H58"
      },
      "source": [
        "**3. Create a 1D array of zeros of size 10 of type float32**"
      ],
      "id": "U48ily78-H58"
    },
    {
      "cell_type": "code",
      "execution_count": null,
      "metadata": {
        "colab": {
          "base_uri": "https://localhost:8080/"
        },
        "id": "bQCAgK3G-H58",
        "outputId": "641f3b15-450b-470b-c01f-8a350176f7ec"
      },
      "outputs": [
        {
          "name": "stdout",
          "output_type": "stream",
          "text": [
            "[0. 0. 0. 0. 0. 0. 0. 0. 0. 0.]\n"
          ]
        }
      ],
      "source": [
        "Z_array = np.zeros(10, dtype=\"float32\")\n",
        "print(Z_array)"
      ],
      "id": "bQCAgK3G-H58"
    },
    {
      "cell_type": "markdown",
      "metadata": {
        "id": "C-_1vYik-H58"
      },
      "source": [
        "**4. Print the memory size of the array below**"
      ],
      "id": "C-_1vYik-H58"
    },
    {
      "cell_type": "code",
      "execution_count": null,
      "metadata": {
        "colab": {
          "base_uri": "https://localhost:8080/"
        },
        "id": "Q8eOacm9-H59",
        "outputId": "36ad0109-c686-4e75-9167-603693c545e7"
      },
      "outputs": [
        {
          "name": "stdout",
          "output_type": "stream",
          "text": [
            "3072\n"
          ]
        }
      ],
      "source": [
        "Z = np.zeros((32,12))\n",
        "# Include your solution below\n",
        "print(Z.size * Z.itemsize)"
      ],
      "id": "Q8eOacm9-H59"
    },
    {
      "cell_type": "markdown",
      "metadata": {
        "id": "_UxlszN7-H59"
      },
      "source": [
        "**5. Create a 1D array with values ranging from 10 to 58**"
      ],
      "id": "_UxlszN7-H59"
    },
    {
      "cell_type": "code",
      "execution_count": null,
      "metadata": {
        "colab": {
          "base_uri": "https://localhost:8080/"
        },
        "id": "SYsGCiN1-H5-",
        "outputId": "5a5d4d2d-de62-4892-8d03-b6c71982a919"
      },
      "outputs": [
        {
          "name": "stdout",
          "output_type": "stream",
          "text": [
            "[10 11 12 13 14 15 16 17 18 19 20 21 22 23 24 25 26 27 28 29 30 31 32 33\n",
            " 34 35 36 37 38 39 40 41 42 43 44 45 46 47 48 49 50 51 52 53 54 55 56 57\n",
            " 58]\n"
          ]
        }
      ],
      "source": [
        "A = np.arange(10,58+1)\n",
        "print(A)"
      ],
      "id": "SYsGCiN1-H5-"
    },
    {
      "cell_type": "markdown",
      "metadata": {
        "id": "DcWaFvR5-H5-"
      },
      "source": [
        "**6. Reverse the order of the values in the vector (first element becomes last)**"
      ],
      "id": "DcWaFvR5-H5-"
    },
    {
      "cell_type": "code",
      "execution_count": null,
      "metadata": {
        "colab": {
          "base_uri": "https://localhost:8080/"
        },
        "id": "83DIeteO-H5-",
        "outputId": "5dd09fe0-0a97-4cbf-a3d9-7de41457904f"
      },
      "outputs": [
        {
          "name": "stdout",
          "output_type": "stream",
          "text": [
            "[0 1 2 3 4 5 6 7 8 9]\n",
            "After reversing the array:\n",
            "[9 8 7 6 5 4 3 2 1 0]\n"
          ]
        }
      ],
      "source": [
        "a = np.arange(10)\n",
        "# Include your solution below\n",
        "print(a)\n",
        "a = a[::-1]\n",
        "print(\"After reversing the array:\")\n",
        "print(a)"
      ],
      "id": "83DIeteO-H5-"
    },
    {
      "cell_type": "markdown",
      "metadata": {
        "id": "7t72iu-C-H5-"
      },
      "source": [
        "**7. Create a 3x3 matrix with values ranging from 0 to 8**"
      ],
      "id": "7t72iu-C-H5-"
    },
    {
      "cell_type": "code",
      "execution_count": null,
      "metadata": {
        "colab": {
          "base_uri": "https://localhost:8080/"
        },
        "id": "_ikbWuxz-H5_",
        "outputId": "c36756db-3aae-45bc-f2bd-93bffdfd2a52"
      },
      "outputs": [
        {
          "name": "stdout",
          "output_type": "stream",
          "text": [
            "a.reshape(3,3) =\n",
            "[[0 1 2]\n",
            " [3 4 5]\n",
            " [6 7 8]]\n"
          ]
        }
      ],
      "source": [
        "a = np.arange(8+1) # 1D array with 8 elements\n",
        "\n",
        "a = a.reshape(3,3) # Reshape. Now a is a 3x3 2D array\n",
        "print('a.reshape(3,3) =')\n",
        "print(a) "
      ],
      "id": "_ikbWuxz-H5_"
    },
    {
      "cell_type": "markdown",
      "metadata": {
        "id": "pQR_x56j-H5_"
      },
      "source": [
        "**8. Create a 3x3 identity matrix**"
      ],
      "id": "pQR_x56j-H5_"
    },
    {
      "cell_type": "code",
      "execution_count": null,
      "metadata": {
        "colab": {
          "base_uri": "https://localhost:8080/"
        },
        "id": "AymoTH-b-H5_",
        "outputId": "6befef4e-8e20-4a03-b091-f0edec4845af"
      },
      "outputs": [
        {
          "name": "stdout",
          "output_type": "stream",
          "text": [
            "[[1. 0. 0.]\n",
            " [0. 1. 0.]\n",
            " [0. 0. 1.]]\n"
          ]
        }
      ],
      "source": [
        "I = np.identity(3)\n",
        "print(I)"
      ],
      "id": "AymoTH-b-H5_"
    },
    {
      "cell_type": "markdown",
      "metadata": {
        "id": "HHP2S7n--H5_"
      },
      "source": [
        "**9. Find and print the maximum values of each column in the array below** "
      ],
      "id": "HHP2S7n--H5_"
    },
    {
      "cell_type": "code",
      "execution_count": null,
      "metadata": {
        "colab": {
          "base_uri": "https://localhost:8080/"
        },
        "id": "HBVDkmkf-H6A",
        "outputId": "216f3b6b-e605-4a77-fab9-1cb02e5555fb"
      },
      "outputs": [
        {
          "name": "stdout",
          "output_type": "stream",
          "text": [
            "[0.98722436 0.97225009 0.74531511 0.91439536 0.84772922 0.92817808\n",
            " 0.97837268 0.98357662 0.89850858 0.99950029 0.82355929]\n"
          ]
        }
      ],
      "source": [
        "Z = np.random.random((10,11))\n",
        "\n",
        "# Include your solution below\n",
        "max_along_columns = Z.max(axis=0)\n",
        "print(max_along_columns) "
      ],
      "id": "HBVDkmkf-H6A"
    },
    {
      "cell_type": "markdown",
      "metadata": {
        "id": "Liu-iyHJ-H6A"
      },
      "source": [
        "**10. Create a $7 \\times 7$ array with 1s on the borders (first row and column, last row and columns) and 0s everywhere else**"
      ],
      "id": "Liu-iyHJ-H6A"
    },
    {
      "cell_type": "code",
      "execution_count": null,
      "metadata": {
        "colab": {
          "base_uri": "https://localhost:8080/"
        },
        "id": "vNTjHv4c-H6A",
        "outputId": "8707450b-d23d-46ac-fd17-4d4959bddbda"
      },
      "outputs": [
        {
          "name": "stdout",
          "output_type": "stream",
          "text": [
            "[[1. 1. 1. 1. 1. 1. 1.]\n",
            " [1. 0. 0. 0. 0. 0. 1.]\n",
            " [1. 0. 0. 0. 0. 0. 1.]\n",
            " [1. 0. 0. 0. 0. 0. 1.]\n",
            " [1. 0. 0. 0. 0. 0. 1.]\n",
            " [1. 0. 0. 0. 0. 0. 1.]\n",
            " [1. 1. 1. 1. 1. 1. 1.]]\n"
          ]
        }
      ],
      "source": [
        "x = np.ones((7,7))\n",
        "x[1:-1,1:-1] = 0\n",
        "print(x)"
      ],
      "id": "vNTjHv4c-H6A"
    },
    {
      "cell_type": "markdown",
      "metadata": {
        "id": "okuPWzil-H6A"
      },
      "source": [
        "**11. Pad the existing array below with zeros (i.e., add additional rows and columns with zeros). Use the NumPy pad function.**"
      ],
      "id": "okuPWzil-H6A"
    },
    {
      "cell_type": "code",
      "execution_count": null,
      "metadata": {
        "id": "4xBDSeGR-H6B",
        "colab": {
          "base_uri": "https://localhost:8080/"
        },
        "outputId": "a82e82bb-f0b7-4ba8-aae0-6d31ec7aa3ae"
      },
      "outputs": [
        {
          "output_type": "stream",
          "name": "stdout",
          "text": [
            "Given array:\n",
            "[[1. 1. 1. 1. 1.]\n",
            " [1. 1. 1. 1. 1.]\n",
            " [1. 1. 1. 1. 1.]\n",
            " [1. 1. 1. 1. 1.]\n",
            " [1. 1. 1. 1. 1.]]\n",
            "\n",
            "After padding 0s:\n",
            "[[0. 0. 0. 0. 0. 0. 0.]\n",
            " [0. 1. 1. 1. 1. 1. 0.]\n",
            " [0. 1. 1. 1. 1. 1. 0.]\n",
            " [0. 1. 1. 1. 1. 1. 0.]\n",
            " [0. 1. 1. 1. 1. 1. 0.]\n",
            " [0. 1. 1. 1. 1. 1. 0.]\n",
            " [0. 0. 0. 0. 0. 0. 0.]]\n"
          ]
        }
      ],
      "source": [
        "Z = np.ones((5,5))\n",
        "# Include your solution below\n",
        "print(\"Given array:\")\n",
        "print(Z)\n",
        "additional_row_up = 1\n",
        "additional_row_down = 1 \n",
        "additional_col_left = 1\n",
        "additional_col_right = 1\n",
        "additional_element_value = 0\n",
        "Z = np.pad(Z,pad_width=((additional_row_up,additional_row_down),(additional_col_left,additional_col_right)),constant_values=((additional_element_value,additional_element_value),))\n",
        "print(\"\\nAfter padding %ds:\" % additional_element_value)\n",
        "print(Z)"
      ],
      "id": "4xBDSeGR-H6B"
    },
    {
      "cell_type": "markdown",
      "metadata": {
        "id": "bY5Ii1i--H6B"
      },
      "source": [
        "**12. Extract the integer part of the random array of positive numbers below**\n",
        "\n"
      ],
      "id": "bY5Ii1i--H6B"
    },
    {
      "cell_type": "code",
      "execution_count": null,
      "metadata": {
        "colab": {
          "base_uri": "https://localhost:8080/"
        },
        "id": "f9dj2sIe-H6B",
        "outputId": "324e63f2-7f7e-41a9-df78-d0b3620dd57a"
      },
      "outputs": [
        {
          "name": "stdout",
          "output_type": "stream",
          "text": [
            "[2.47329635 9.12425397 1.20589424 7.88056503 1.67024113 9.98875399\n",
            " 3.68631549 5.92318563 1.19505381 5.60854612]\n",
            "[2 9 1 7 1 9 3 5 1 5]\n"
          ]
        }
      ],
      "source": [
        "Z = np.random.uniform(0,10,10)\n",
        "# Include your solution below\n",
        "print(Z)\n",
        "Z_int = Z.astype(int)\n",
        "print(Z_int)"
      ],
      "id": "f9dj2sIe-H6B"
    },
    {
      "cell_type": "markdown",
      "metadata": {
        "id": "8Qm6dSCC-H6B"
      },
      "source": [
        "**13. Create a 5x5 matrix with rows with equal values ranging from 0 to 4 (i.e., [0,1,2,3,4])**\n",
        "\n",
        "*Hint:* consider using NumPy broadcasting or the tile function*"
      ],
      "id": "8Qm6dSCC-H6B"
    },
    {
      "cell_type": "code",
      "execution_count": null,
      "metadata": {
        "colab": {
          "base_uri": "https://localhost:8080/"
        },
        "id": "sE6s3SzR-H6C",
        "outputId": "4dcafcb7-abd2-4135-d3c4-6354f7a085fd"
      },
      "outputs": [
        {
          "name": "stdout",
          "output_type": "stream",
          "text": [
            "[[0 1 2 3 4]\n",
            " [0 1 2 3 4]\n",
            " [0 1 2 3 4]\n",
            " [0 1 2 3 4]\n",
            " [0 1 2 3 4]]\n"
          ]
        }
      ],
      "source": [
        "a = np.tile(np.arange(0,4+1), (5, 1))\n",
        "print(a)"
      ],
      "id": "sE6s3SzR-H6C"
    },
    {
      "cell_type": "markdown",
      "metadata": {
        "id": "oc3Trk0S-H6C"
      },
      "source": [
        "**14. Create a vector of size 10 with values ranging from 0 to 1 (0 and 1 not included)**\n",
        "\n",
        "*Hint: Consider using the linspace function*"
      ],
      "id": "oc3Trk0S-H6C"
    },
    {
      "cell_type": "code",
      "execution_count": null,
      "metadata": {
        "colab": {
          "base_uri": "https://localhost:8080/"
        },
        "id": "TV2Nu1dq-H6D",
        "outputId": "9fd5de55-96d0-4398-df17-7a6a594b32a1"
      },
      "outputs": [
        {
          "name": "stdout",
          "output_type": "stream",
          "text": [
            "[0.09090909 0.18181818 0.27272727 0.36363636 0.45454545 0.54545455\n",
            " 0.63636364 0.72727273 0.81818182 0.90909091]\n"
          ]
        }
      ],
      "source": [
        "a = np.linspace(start=0, stop=1, num=10+1, endpoint=False)[1:]  #if endpoint=True, stop is the last sample. Otherwise, it is not included.\n",
        "print(a)"
      ],
      "id": "TV2Nu1dq-H6D"
    },
    {
      "cell_type": "markdown",
      "metadata": {
        "id": "xmqXCihR-H6D"
      },
      "source": [
        "**15. Create a random vector of size 10 and sort it**"
      ],
      "id": "xmqXCihR-H6D"
    },
    {
      "cell_type": "code",
      "execution_count": null,
      "metadata": {
        "colab": {
          "base_uri": "https://localhost:8080/"
        },
        "id": "bPytQZnO-H6D",
        "outputId": "54ae4443-80a1-468c-b5df-a66fc8f97a6b"
      },
      "outputs": [
        {
          "name": "stdout",
          "output_type": "stream",
          "text": [
            "A random array of size 10:\n",
            "[0.48912835 0.08883673 0.0357165  0.83231987 0.5068272  0.17722925\n",
            " 0.46469952 0.59361882 0.21783543 0.78646044]\n",
            "After sorting:\n",
            "[0.0357165  0.08883673 0.17722925 0.21783543 0.46469952 0.48912835\n",
            " 0.5068272  0.59361882 0.78646044 0.83231987]\n"
          ]
        }
      ],
      "source": [
        "a = np.random.rand(10)\n",
        "print(\"A random array of size 10:\")\n",
        "print(a)\n",
        "a = np.sort(a)\n",
        "print(\"After sorting:\")\n",
        "print(a)"
      ],
      "id": "bPytQZnO-H6D"
    },
    {
      "cell_type": "markdown",
      "metadata": {
        "id": "P3KebDLH-H6D"
      },
      "source": [
        "**16. Consider the cartesian coordinates below (X and Y), convert them to polar coordinates (R and T)**"
      ],
      "id": "P3KebDLH-H6D"
    },
    {
      "cell_type": "code",
      "execution_count": null,
      "metadata": {
        "colab": {
          "base_uri": "https://localhost:8080/"
        },
        "id": "8OY56f8E-H6D",
        "outputId": "4a27589f-8ca0-4ca7-cefe-ccc33f9758c4"
      },
      "outputs": [
        {
          "name": "stdout",
          "output_type": "stream",
          "text": [
            "Given cartesial coordinates (X,Y):\n",
            "[[0.04065469 0.27384708]\n",
            " [0.62779549 0.74916374]\n",
            " [0.21373038 0.86859411]\n",
            " [0.04770156 0.47689964]\n",
            " [0.59256855 0.49058355]\n",
            " [0.2953612  0.9035284 ]\n",
            " [0.18976323 0.84405046]\n",
            " [0.84906324 0.38712194]\n",
            " [0.13993576 0.6650157 ]\n",
            " [0.65060379 0.05364408]]\n",
            "\n",
            "Corresponding polar coordinates (R,T):\n",
            "[[[0.27684838 1.42341513]\n",
            "  [0.97743209 0.87331318]\n",
            "  [0.89450344 1.32952486]\n",
            "  [0.47927936 1.4711036 ]\n",
            "  [0.76929169 0.69151918]\n",
            "  [0.95057973 1.25484914]\n",
            "  [0.86511921 1.34964892]\n",
            "  [0.93315153 0.42778268]\n",
            "  [0.67957921 1.36339736]\n",
            "  [0.6528116  0.08226667]]]\n"
          ]
        }
      ],
      "source": [
        "Z = np.random.random((10,2))\n",
        "X,Y = Z[:,0], Z[:,1]\n",
        "# Include your solution below\n",
        "print(\"Given cartesial coordinates (X,Y):\")\n",
        "print(Z)\n",
        "\n",
        "R = np.sqrt(X**2 + Y**2)\n",
        "T = np.arctan2(Y, X)\n",
        "polar_coord = np.dstack((R,T))\n",
        "print(\"\\nCorresponding polar coordinates (R,T):\")\n",
        "#print(R)\n",
        "#print(T)\n",
        "print(polar_coord)"
      ],
      "id": "8OY56f8E-H6D"
    },
    {
      "cell_type": "markdown",
      "metadata": {
        "id": "59r_DF5Z-H6E"
      },
      "source": [
        "**17. Create random vector of size 10 and replace the maximum value by 0**"
      ],
      "id": "59r_DF5Z-H6E"
    },
    {
      "cell_type": "code",
      "execution_count": null,
      "metadata": {
        "colab": {
          "base_uri": "https://localhost:8080/"
        },
        "id": "pPSOpKOK-H6E",
        "outputId": "f9fdb073-8629-4371-ded2-b1189ee84e6f"
      },
      "outputs": [
        {
          "name": "stdout",
          "output_type": "stream",
          "text": [
            "A random array of size 10:\n",
            "[0.28110983 0.31499535 0.89536564 0.07949908 0.89681734 0.44550333\n",
            " 0.27096656 0.11808889 0.34430251 0.60022375]\n",
            "After replacing the max value with 0:\n",
            "[0.28110983 0.31499535 0.89536564 0.07949908 0.         0.44550333\n",
            " 0.27096656 0.11808889 0.34430251 0.60022375]\n"
          ]
        }
      ],
      "source": [
        "a = np.random.rand(10)\n",
        "print(\"A random array of size 10:\")\n",
        "print(a)\n",
        "max_val_index = np.argmax(a)\n",
        "a[max_val_index] = 0\n",
        "print(\"After replacing the max value with 0:\")\n",
        "print(a)"
      ],
      "id": "pPSOpKOK-H6E"
    },
    {
      "cell_type": "markdown",
      "metadata": {
        "id": "cvb0iPkO-H6E"
      },
      "source": [
        "**18. Find the nearest value from a given value (z) in an array (Z)**"
      ],
      "id": "cvb0iPkO-H6E"
    },
    {
      "cell_type": "code",
      "execution_count": null,
      "metadata": {
        "colab": {
          "base_uri": "https://localhost:8080/"
        },
        "id": "po-e8obN-H6E",
        "outputId": "31052352-3209-44ca-f3c5-58ecd5f7187d"
      },
      "outputs": [
        {
          "name": "stdout",
          "output_type": "stream",
          "text": [
            "Given array:\n",
            "[0.46010649 0.14176796 0.3019472  0.00744439 0.69826086 0.12800131\n",
            " 0.44024354 0.37904913 0.87460785 0.58094172]\n",
            "Reference value:\n",
            "0.5\n",
            "Nearest value from array:\n",
            "0.4601064862861157\n"
          ]
        }
      ],
      "source": [
        "Z = np.random.uniform(0,1,10)\n",
        "z = 0.5\n",
        "# Include your solution below\n",
        "print(\"Given array:\")\n",
        "print(Z)\n",
        "print(\"Reference value:\")\n",
        "print(z)\n",
        "diff_array = abs(Z-z)\n",
        "near_val_index = np.argmin(diff_array)\n",
        "near_val = Z[near_val_index]\n",
        "print(\"Nearest value from array:\")\n",
        "print(near_val)"
      ],
      "id": "po-e8obN-H6E"
    },
    {
      "cell_type": "markdown",
      "metadata": {
        "id": "kiJaufgl-H6F"
      },
      "source": [
        "**19. Consider the vector [5, 4, 3, 2, 1], how to build a new vector with 3 consecutive zeros interleaved between each value?**"
      ],
      "id": "kiJaufgl-H6F"
    },
    {
      "cell_type": "code",
      "execution_count": null,
      "metadata": {
        "colab": {
          "base_uri": "https://localhost:8080/"
        },
        "id": "u69kMaOD-H6F",
        "outputId": "04ec9421-37ac-434b-904a-9593d8091104"
      },
      "outputs": [
        {
          "name": "stdout",
          "output_type": "stream",
          "text": [
            "Original given array:\n",
            "[5 4 3 2 1]\n",
            "After inserting zeros:\n",
            "[5 0 0 0 4 0 0 0 3 0 0 0 2 0 0 0 1]\n"
          ]
        }
      ],
      "source": [
        "#Z = np.arange(5)[::-1]\n",
        "Z = np.arange(6)[1:][::-1] #Changed a little, the original array was [4,3,2,1,0]\n",
        "# Include your solution below\n",
        "print(\"Original given array:\")\n",
        "print(Z)\n",
        "\n",
        "value_to_insert = 0\n",
        "numer_of_value_to_insert = 3\n",
        "insert_index_array = sorted(list(np.arange(1,len(Z)))*numer_of_value_to_insert)\n",
        "Z = np.insert(Z, insert_index_array, value_to_insert)\n",
        "\n",
        "print(\"After inserting zeros:\")\n",
        "print(Z)"
      ],
      "id": "u69kMaOD-H6F"
    },
    {
      "cell_type": "markdown",
      "metadata": {
        "id": "Pfu73aAH-H6F"
      },
      "source": [
        "**20. Consider an array of dimension (5,5,3), how to mulitply it element-wise by an array with dimensions (5,5) - i.e., (5,5,0)$\\times$(5,5), (5,5,1)$\\times$(5,5), (5,5,2)$\\times$(5,5)**"
      ],
      "id": "Pfu73aAH-H6F"
    },
    {
      "cell_type": "code",
      "execution_count": null,
      "metadata": {
        "colab": {
          "base_uri": "https://localhost:8080/"
        },
        "id": "Tj2oIqYj-H6F",
        "outputId": "f7e4c643-ba2b-4184-8e0e-22042a1ace8e"
      },
      "outputs": [
        {
          "name": "stdout",
          "output_type": "stream",
          "text": [
            "A:\n",
            "[[[1. 1. 1.]\n",
            "  [1. 1. 1.]\n",
            "  [1. 1. 1.]\n",
            "  [1. 1. 1.]\n",
            "  [1. 1. 1.]]\n",
            "\n",
            " [[1. 1. 1.]\n",
            "  [1. 1. 1.]\n",
            "  [1. 1. 1.]\n",
            "  [1. 1. 1.]\n",
            "  [1. 1. 1.]]\n",
            "\n",
            " [[1. 1. 1.]\n",
            "  [1. 1. 1.]\n",
            "  [1. 1. 1.]\n",
            "  [1. 1. 1.]\n",
            "  [1. 1. 1.]]\n",
            "\n",
            " [[1. 1. 1.]\n",
            "  [1. 1. 1.]\n",
            "  [1. 1. 1.]\n",
            "  [1. 1. 1.]\n",
            "  [1. 1. 1.]]\n",
            "\n",
            " [[1. 1. 1.]\n",
            "  [1. 1. 1.]\n",
            "  [1. 1. 1.]\n",
            "  [1. 1. 1.]\n",
            "  [1. 1. 1.]]]\n",
            "\n",
            "B:\n",
            "[[2. 2. 2. 2. 2.]\n",
            " [2. 2. 2. 2. 2.]\n",
            " [2. 2. 2. 2. 2.]\n",
            " [2. 2. 2. 2. 2.]\n",
            " [2. 2. 2. 2. 2.]]\n",
            "\n",
            "After multiplication:\n",
            "[[[2. 2. 2.]\n",
            "  [2. 2. 2.]\n",
            "  [2. 2. 2.]\n",
            "  [2. 2. 2.]\n",
            "  [2. 2. 2.]]\n",
            "\n",
            " [[2. 2. 2.]\n",
            "  [2. 2. 2.]\n",
            "  [2. 2. 2.]\n",
            "  [2. 2. 2.]\n",
            "  [2. 2. 2.]]\n",
            "\n",
            " [[2. 2. 2.]\n",
            "  [2. 2. 2.]\n",
            "  [2. 2. 2.]\n",
            "  [2. 2. 2.]\n",
            "  [2. 2. 2.]]\n",
            "\n",
            " [[2. 2. 2.]\n",
            "  [2. 2. 2.]\n",
            "  [2. 2. 2.]\n",
            "  [2. 2. 2.]\n",
            "  [2. 2. 2.]]\n",
            "\n",
            " [[2. 2. 2.]\n",
            "  [2. 2. 2.]\n",
            "  [2. 2. 2.]\n",
            "  [2. 2. 2.]\n",
            "  [2. 2. 2.]]]\n"
          ]
        }
      ],
      "source": [
        "A = np.ones((5,5,3))\n",
        "#A = np.ones((3,5,5))\n",
        "B = 2*np.ones((5,5))\n",
        "# Include your solution below\n",
        "print(\"A:\")\n",
        "print(A)\n",
        "print(\"\\nB:\")\n",
        "print(B)\n",
        "\n",
        "M = (A.transpose() * B.transpose() ).transpose()\n",
        "#M = A * B\n",
        "print(\"\\nAfter multiplication:\")\n",
        "print(M)"
      ],
      "id": "Tj2oIqYj-H6F"
    },
    {
      "cell_type": "markdown",
      "metadata": {
        "id": "Em-Fg1uK-H6F"
      },
      "source": [
        "**21. Swap the first and second rows of the 2D array below**"
      ],
      "id": "Em-Fg1uK-H6F"
    },
    {
      "cell_type": "code",
      "execution_count": null,
      "metadata": {
        "colab": {
          "base_uri": "https://localhost:8080/"
        },
        "id": "LgF7Dnkz-H6G",
        "outputId": "9dacbb96-4251-49b0-adc7-8a1024a032d9"
      },
      "outputs": [
        {
          "name": "stdout",
          "output_type": "stream",
          "text": [
            "Original array:\n",
            "[[ 0  1  2  3  4]\n",
            " [ 5  6  7  8  9]\n",
            " [10 11 12 13 14]\n",
            " [15 16 17 18 19]\n",
            " [20 21 22 23 24]\n",
            " [25 26 27 28 29]]\n",
            "\n",
            "After swaping 1-th and 2-th rows:\n",
            "[[ 5  6  7  8  9]\n",
            " [ 0  1  2  3  4]\n",
            " [10 11 12 13 14]\n",
            " [15 16 17 18 19]\n",
            " [20 21 22 23 24]\n",
            " [25 26 27 28 29]]\n"
          ]
        }
      ],
      "source": [
        "W = np.arange(30).reshape(6,5)\n",
        "print(\"Original array:\")\n",
        "print(W)\n",
        "print()\n",
        "# Include your solution below\n",
        "row1 = 0\n",
        "row2 = 1\n",
        "W[[row1, row2]] = W[[row2, row1]]\n",
        "print(\"After swaping %d-th and %d-th rows:\" % (row1+1,row2+1))\n",
        "print(W)"
      ],
      "id": "LgF7Dnkz-H6G"
    },
    {
      "cell_type": "markdown",
      "metadata": {
        "id": "sEUMSM1x-H6G"
      },
      "source": [
        "**22. Write a function that receives as input a 2D Boolean NumPy array and outputs the coordinates of the minimal bounding-box\n",
        "that encloses all non-zero elements in the input array**\n",
        "\n",
        "**Tip:** search for the functions nonzero and where in the NumPy documentation.\n",
        "\n",
        "\n",
        "<img src=\"https://github.com/rmsouza01/ENEL645/blob/master/Figures/bbox.png?raw=1\" width=\"150\" /> "
      ],
      "id": "sEUMSM1x-H6G"
    },
    {
      "cell_type": "code",
      "execution_count": null,
      "metadata": {
        "id": "sPahmq_V-H6G"
      },
      "outputs": [],
      "source": [
        "def bbox(img):\n",
        "    #include your solution below\n",
        "    return (r1,c1),(r2,c2)\n",
        "\n",
        "\n",
        "from PIL import Image\n",
        "\n",
        "#img = np.array(Image.open('../Figures/bin_image.png').convert('L')) > 0\n",
        "img = np.array(Image.open('/content/ENEL645/Figures/bbox.png').convert('L')) >0\n",
        "\n",
        "\n",
        "\n",
        "\n",
        "print(bbox(img))\n",
        "\n"
      ],
      "id": "sPahmq_V-H6G"
    },
    {
      "cell_type": "markdown",
      "metadata": {
        "id": "6phmDhI8-H6G"
      },
      "source": [
        "**23.Write a function to compute the average over a sliding window of length N over a 1D array?**\n",
        "\n",
        "*Example:* [1,2,3,4,5,6,7,8,9], N = 3 -> [2,5,8]"
      ],
      "id": "6phmDhI8-H6G"
    },
    {
      "cell_type": "code",
      "execution_count": null,
      "metadata": {
        "colab": {
          "base_uri": "https://localhost:8080/"
        },
        "id": "XJz-gN80-H6G",
        "outputId": "4aba5ae2-77dd-4298-fd93-5300a50e0108"
      },
      "outputs": [
        {
          "output_type": "stream",
          "name": "stdout",
          "text": [
            "[ 1.  4.  7. 10. 13. 16. 19. 22. 25. 28.]\n"
          ]
        }
      ],
      "source": [
        "'''def moving_average(x,N = 3):\n",
        "    #define your function here\n",
        "    i = 0\n",
        "    m_avg_list = []\n",
        "    while(i<len(x)):\n",
        "      m_avg_list.append(np.average(x[i:i+N]))\n",
        "      i = i + N\n",
        "    return(m_avg_list)''' \n",
        "\n",
        "\n",
        "## Avoiding Explicit Python Loops\n",
        "def moving_average(x,N = 3):\n",
        "  #define your function here\n",
        "  return np.add.reduceat(x, np.arange(0, len(x), N)) / N  #Reference (Documentation of reduceat): https://numpy.org/doc/stable/reference/generated/numpy.ufunc.reduceat.html\n",
        "\n",
        "#a = np.arange(1,10)\n",
        "a = np.arange(30)\n",
        "N = 3\n",
        "print(moving_average(a,N))"
      ],
      "id": "XJz-gN80-H6G"
    },
    {
      "cell_type": "markdown",
      "metadata": {
        "id": "3qg1D9lA-H6H"
      },
      "source": [
        "**24.  Given a sorted 1D array C that corresponds to a bincount, how to produce an array A such that np.bincount(A) == C?**\n",
        "\n",
        "*Example:* C = [3,2,4] -> D = [0,0,0,1,1,2,2,2,2]\n",
        "\n",
        "*Tip:* Consider using the NumPy repeat function"
      ],
      "id": "3qg1D9lA-H6H"
    },
    {
      "cell_type": "code",
      "execution_count": null,
      "metadata": {
        "colab": {
          "base_uri": "https://localhost:8080/"
        },
        "id": "mSriafRv-H6H",
        "outputId": "5c81e739-49b5-4e2f-eee3-633817f24cd8"
      },
      "outputs": [
        {
          "name": "stdout",
          "output_type": "stream",
          "text": [
            "[0 2 1 1 2 0 1]\n",
            "[1 1 2 3 4 4 6]\n"
          ]
        }
      ],
      "source": [
        "C = np.bincount([1,1,2,3,4,4,6])\n",
        "print(C)\n",
        "# Include yoru solution here\n",
        "#C = np.array([3,2,4])\n",
        "A = np.repeat(np.arange(C.size), C) \n",
        "print(A)"
      ],
      "id": "mSriafRv-H6H"
    },
    {
      "cell_type": "markdown",
      "metadata": {
        "id": "mKdkOXiT-H6H"
      },
      "source": [
        "**25. Find the most frequent value in the array below?**"
      ],
      "id": "mKdkOXiT-H6H"
    },
    {
      "cell_type": "code",
      "execution_count": null,
      "metadata": {
        "colab": {
          "base_uri": "https://localhost:8080/"
        },
        "id": "ft_Nu299-H6H",
        "outputId": "5c788005-4ef4-44db-a66e-0e5df3f9ac40"
      },
      "outputs": [
        {
          "name": "stdout",
          "output_type": "stream",
          "text": [
            "Given array:\n",
            "[2 0 9 4 0 5 8 0 8 8 1 6 7 4 1 7 1 9 9 0 2 0 5 8 2 3 3 3 5 2 3 6 2 8 4 2 6\n",
            " 3 0 2 8 5 6 5 1 8 7 3 7 3]\n",
            "\n",
            "Most frequent value:\n",
            "2\n"
          ]
        }
      ],
      "source": [
        "Z = np.random.randint(0,10,50)\n",
        "# Include your solution below\n",
        "print(\"Given array:\")\n",
        "print(Z)\n",
        "\n",
        "\n",
        "'''\n",
        "## 'bincount' cannot handle negative number \n",
        "\n",
        "most_frequent = np.bincount(Z).argmax()\n",
        "print(\"Most frequent value:\")\n",
        "print(most_frequent)\n",
        "'''\n",
        "\n",
        "from collections import Counter\n",
        "count = Counter(Z)\n",
        "most_frequent = count.most_common(1)[0][0]\n",
        "#print(count)\n",
        "print(\"\\nMost frequent value:\")\n",
        "print(most_frequent)"
      ],
      "id": "ft_Nu299-H6H"
    },
    {
      "cell_type": "markdown",
      "metadata": {
        "id": "orOtA2xO-H6H"
      },
      "source": [
        "**26. Write a function to return the n largest values of an array** "
      ],
      "id": "orOtA2xO-H6H"
    },
    {
      "cell_type": "code",
      "execution_count": null,
      "metadata": {
        "colab": {
          "base_uri": "https://localhost:8080/"
        },
        "id": "BQztyUb6-H6H",
        "outputId": "ade9bfda-4532-4561-e17f-7167ec453a0f"
      },
      "outputs": [
        {
          "name": "stdout",
          "output_type": "stream",
          "text": [
            "Given array:\n",
            "[   0    1    2 ... 9997 9998 9999]\n",
            "\n",
            "5 largest values:\n",
            "[9995 9996 9997 9998 9999]\n"
          ]
        }
      ],
      "source": [
        "def nlargest(a,n = 5):\n",
        "    # Include your solution here\n",
        "    a = np.sort(a)\n",
        "    return a[-n:]\n",
        "\n",
        "Z = np.arange(10000)\n",
        "print(\"Given array:\")\n",
        "print(Z)\n",
        "np.random.shuffle(Z)\n",
        "n = 5\n",
        "print(\"\\n%d largest values:\" % n)\n",
        "print(nlargest(Z,n))    "
      ],
      "id": "BQztyUb6-H6H"
    }
  ],
  "metadata": {
    "colab": {
      "collapsed_sections": [],
      "name": "assignment01-python-numpy-programming_Group4.ipynb",
      "provenance": [],
      "include_colab_link": true
    },
    "kernelspec": {
      "display_name": "Python 3",
      "language": "python",
      "name": "python3"
    },
    "language_info": {
      "codemirror_mode": {
        "name": "ipython",
        "version": 3
      },
      "file_extension": ".py",
      "mimetype": "text/x-python",
      "name": "python",
      "nbconvert_exporter": "python",
      "pygments_lexer": "ipython3",
      "version": "3.8.5"
    }
  },
  "nbformat": 4,
  "nbformat_minor": 5
}