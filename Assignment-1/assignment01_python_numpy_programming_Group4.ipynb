{
  "cells": [
    {
      "cell_type": "markdown",
      "id": "pAnwmLzq-H55",
      "metadata": {
        "id": "pAnwmLzq-H55"
      },
      "source": [
        "# Assignment #01\n",
        "\n",
        "This assignment is composed of multiple Python and NumPy programming exercises. The deliverable of this assignment is this jupyter-notebook completed with your solution.\n",
        "\n",
        "The delivery instructions are the following:\n",
        "    - Create a GitHub repository for your team. You are free to choose its name. This repository will be used to delvier the programming assignments and the code of your team's final project.\n",
        "    - Create a folder assignment-01 in the repository. Put the jupyter-notebook with your solution in this repository and post the repository link in your team's D2L dropbox for the assignment.\n",
        "\n",
        "You are being assessed based on:\n",
        "\n",
        "1. Code execution - 25% \n",
        "2. Clarity of the code (e.g., easy to follow, has pertinent comments, etc.) - 25%\n",
        "3. Proper usage of the techniques seen in class - 25%\n",
        "    - remember to avoid explicit Python loops!  \n",
        "4. Quality and correcteness of the results - 25%\n",
        "\n",
        "More details about the assessment are available in the rubric document in the class GitHub repository.\n",
        "\n",
        "Points distribution:\n",
        "- Question 2-21: 3 points per question \n",
        "- Questions 22-26: 8 points per question (total 40)\n",
        "- Total: 100 ponits"
      ]
    },
    {
      "cell_type": "markdown",
      "id": "VPhwJ5KK_TMM",
      "metadata": {
        "id": "VPhwJ5KK_TMM"
      },
      "source": [
        "**0. Cloning GitHub Repo of this Assignment**"
      ]
    },
    {
      "cell_type": "code",
      "execution_count": null,
      "id": "GK6rc_sr_R_t",
      "metadata": {
        "colab": {
          "base_uri": "https://localhost:8080/"
        },
        "id": "GK6rc_sr_R_t",
        "outputId": "dc647963-8991-440a-e6a7-c3590fdfb001"
      },
      "outputs": [
        {
          "name": "stdout",
          "output_type": "stream",
          "text": [
            "Cloning into 'ENEL645'...\n",
            "remote: Enumerating objects: 426, done.\u001b[K\n",
            "remote: Counting objects: 100% (71/71), done.\u001b[K\n",
            "remote: Compressing objects: 100% (53/53), done.\u001b[K\n",
            "remote: Total 426 (delta 32), reused 50 (delta 16), pack-reused 355\u001b[K\n",
            "Receiving objects: 100% (426/426), 138.00 MiB | 26.45 MiB/s, done.\n",
            "Resolving deltas: 100% (191/191), done.\n"
          ]
        }
      ],
      "source": [
        "! git clone https://github.com/rmsouza01/ENEL645.git"
      ]
    },
    {
      "cell_type": "code",
      "execution_count": null,
      "id": "l2lqDS8O-H56",
      "metadata": {
        "id": "l2lqDS8O-H56"
      },
      "outputs": [],
      "source": [
        "import matplotlib.pylab as plt"
      ]
    },
    {
      "cell_type": "markdown",
      "id": "RY-TNn5W-H57",
      "metadata": {
        "id": "RY-TNn5W-H57"
      },
      "source": [
        "**1. Import the numpy package under the name np**"
      ]
    },
    {
      "cell_type": "code",
      "execution_count": null,
      "id": "-Zli1wY_-H57",
      "metadata": {
        "id": "-Zli1wY_-H57"
      },
      "outputs": [],
      "source": [
        "import numpy as np"
      ]
    },
    {
      "cell_type": "markdown",
      "id": "m72fTiaX-H58",
      "metadata": {
        "id": "m72fTiaX-H58"
      },
      "source": [
        "**2. Print the numpy version and the configuration**"
      ]
    },
    {
      "cell_type": "code",
      "execution_count": null,
      "id": "qdYvn5wh-H58",
      "metadata": {
        "colab": {
          "base_uri": "https://localhost:8080/"
        },
        "id": "qdYvn5wh-H58",
        "outputId": "4366bfa2-c64b-46cc-dd96-4b93676a4035"
      },
      "outputs": [
        {
          "name": "stdout",
          "output_type": "stream",
          "text": [
            "1.19.5\n",
            "blas_mkl_info:\n",
            "  NOT AVAILABLE\n",
            "blis_info:\n",
            "  NOT AVAILABLE\n",
            "openblas_info:\n",
            "    libraries = ['openblas', 'openblas']\n",
            "    library_dirs = ['/usr/local/lib']\n",
            "    language = c\n",
            "    define_macros = [('HAVE_CBLAS', None)]\n",
            "blas_opt_info:\n",
            "    libraries = ['openblas', 'openblas']\n",
            "    library_dirs = ['/usr/local/lib']\n",
            "    language = c\n",
            "    define_macros = [('HAVE_CBLAS', None)]\n",
            "lapack_mkl_info:\n",
            "  NOT AVAILABLE\n",
            "openblas_lapack_info:\n",
            "    libraries = ['openblas', 'openblas']\n",
            "    library_dirs = ['/usr/local/lib']\n",
            "    language = c\n",
            "    define_macros = [('HAVE_CBLAS', None)]\n",
            "lapack_opt_info:\n",
            "    libraries = ['openblas', 'openblas']\n",
            "    library_dirs = ['/usr/local/lib']\n",
            "    language = c\n",
            "    define_macros = [('HAVE_CBLAS', None)]\n",
            "None\n"
          ]
        }
      ],
      "source": [
        "print(np.__version__)\n",
        "print(np.show_config())"
      ]
    },
    {
      "cell_type": "markdown",
      "id": "U48ily78-H58",
      "metadata": {
        "id": "U48ily78-H58"
      },
      "source": [
        "**3. Create a 1D array of zeros of size 10 of type float32**"
      ]
    },
    {
      "cell_type": "code",
      "execution_count": null,
      "id": "bQCAgK3G-H58",
      "metadata": {
        "colab": {
          "base_uri": "https://localhost:8080/"
        },
        "id": "bQCAgK3G-H58",
        "outputId": "798d69ac-29bd-4e52-8f5f-29b6b3916501"
      },
      "outputs": [
        {
          "name": "stdout",
          "output_type": "stream",
          "text": [
            "1D array of zeros of size 10 of type float32:\n",
            "[0. 0. 0. 0. 0. 0. 0. 0. 0. 0.]\n"
          ]
        }
      ],
      "source": [
        "Z = np.zeros(10, dtype=\"float32\") #function to return an array of 0s\n",
        "print(\"1D array of zeros of size 10 of type float32:\")\n",
        "print(Z)"
      ]
    },
    {
      "cell_type": "markdown",
      "id": "C-_1vYik-H58",
      "metadata": {
        "id": "C-_1vYik-H58"
      },
      "source": [
        "**4. Print the memory size of the array below**"
      ]
    },
    {
      "cell_type": "code",
      "execution_count": null,
      "id": "Q8eOacm9-H59",
      "metadata": {
        "colab": {
          "base_uri": "https://localhost:8080/"
        },
        "id": "Q8eOacm9-H59",
        "outputId": "68998e89-d996-44ba-e769-d809b944288f"
      },
      "outputs": [
        {
          "name": "stdout",
          "output_type": "stream",
          "text": [
            "Memory size of the given array:\n",
            "3072\n"
          ]
        }
      ],
      "source": [
        "Z = np.zeros((32,12))  #function to return an array of 0s\n",
        "print(\"Memory size of the given array:\")\n",
        "print(Z.size * Z.itemsize) #Here: size = number of elements in Z, itemsize = size of each element"
      ]
    },
    {
      "cell_type": "markdown",
      "id": "_UxlszN7-H59",
      "metadata": {
        "id": "_UxlszN7-H59"
      },
      "source": [
        "**5. Create a 1D array with values ranging from 10 to 58**"
      ]
    },
    {
      "cell_type": "code",
      "execution_count": null,
      "id": "SYsGCiN1-H5-",
      "metadata": {
        "colab": {
          "base_uri": "https://localhost:8080/"
        },
        "id": "SYsGCiN1-H5-",
        "outputId": "b0c55909-e2da-432d-d22f-8a2d4e84bd37"
      },
      "outputs": [
        {
          "name": "stdout",
          "output_type": "stream",
          "text": [
            "1D array with values ranging from 10 to 58:\n",
            "[10 11 12 13 14 15 16 17 18 19 20 21 22 23 24 25 26 27 28 29 30 31 32 33\n",
            " 34 35 36 37 38 39 40 41 42 43 44 45 46 47 48 49 50 51 52 53 54 55 56 57\n",
            " 58]\n"
          ]
        }
      ],
      "source": [
        "A = np.arange(10,58+1) #passing start value = 10 and end value = 58+1 (not inclusive)\n",
        "print(\"1D array with values ranging from 10 to 58:\")\n",
        "print(A)"
      ]
    },
    {
      "cell_type": "markdown",
      "id": "DcWaFvR5-H5-",
      "metadata": {
        "id": "DcWaFvR5-H5-"
      },
      "source": [
        "**6. Reverse the order of the values in the vector (first element becomes last)**"
      ]
    },
    {
      "cell_type": "code",
      "execution_count": null,
      "id": "83DIeteO-H5-",
      "metadata": {
        "colab": {
          "base_uri": "https://localhost:8080/"
        },
        "id": "83DIeteO-H5-",
        "outputId": "2e7f4baf-3d41-4fd0-a910-1d8f8fabfcc1"
      },
      "outputs": [
        {
          "name": "stdout",
          "output_type": "stream",
          "text": [
            "Original array:\n",
            "[0 1 2 3 4 5 6 7 8 9]\n",
            "After reversing the array:\n",
            "[9 8 7 6 5 4 3 2 1 0]\n"
          ]
        }
      ],
      "source": [
        "a = np.arange(10) #1D array of 10 elements ranging from 0 to 9\n",
        "# Include your solution below\n",
        "print(\"Original array:\")\n",
        "print(a)\n",
        "a = a[::-1] #reversing the array\n",
        "print(\"After reversing the array:\")\n",
        "print(a)"
      ]
    },
    {
      "cell_type": "markdown",
      "id": "7t72iu-C-H5-",
      "metadata": {
        "id": "7t72iu-C-H5-"
      },
      "source": [
        "**7. Create a 3x3 matrix with values ranging from 0 to 8**"
      ]
    },
    {
      "cell_type": "code",
      "execution_count": null,
      "id": "_ikbWuxz-H5_",
      "metadata": {
        "colab": {
          "base_uri": "https://localhost:8080/"
        },
        "id": "_ikbWuxz-H5_",
        "outputId": "cffb030a-3efd-4d16-f6e5-e4608e8e0bb9"
      },
      "outputs": [
        {
          "name": "stdout",
          "output_type": "stream",
          "text": [
            "3X3 matrix with values from 0 to 8:\n",
            "[[0 1 2]\n",
            " [3 4 5]\n",
            " [6 7 8]]\n"
          ]
        }
      ],
      "source": [
        "a = np.arange(8+1) # 1D array with 8 elements ranging from 0 to 8\n",
        "\n",
        "a = a.reshape(3,3) # Reshape. Now a is a 3x3 2D array\n",
        "print('3X3 matrix with values from 0 to 8:')\n",
        "print(a) "
      ]
    },
    {
      "cell_type": "markdown",
      "id": "pQR_x56j-H5_",
      "metadata": {
        "id": "pQR_x56j-H5_"
      },
      "source": [
        "**8. Create a 3x3 identity matrix**"
      ]
    },
    {
      "cell_type": "code",
      "execution_count": null,
      "id": "AymoTH-b-H5_",
      "metadata": {
        "colab": {
          "base_uri": "https://localhost:8080/"
        },
        "id": "AymoTH-b-H5_",
        "outputId": "bfaf6973-7d42-4f7a-bb11-43d9bc4e3c74"
      },
      "outputs": [
        {
          "name": "stdout",
          "output_type": "stream",
          "text": [
            "3X3 identity matrix:\n",
            "[[1. 0. 0.]\n",
            " [0. 1. 0.]\n",
            " [0. 0. 1.]]\n"
          ]
        }
      ],
      "source": [
        "I = np.identity(3) #identity matrix of dimension 3X3\n",
        "print(\"3X3 identity matrix:\")\n",
        "print(I)"
      ]
    },
    {
      "cell_type": "markdown",
      "id": "HHP2S7n--H5_",
      "metadata": {
        "id": "HHP2S7n--H5_"
      },
      "source": [
        "**9. Find and print the maximum values of each column in the array below** "
      ]
    },
    {
      "cell_type": "code",
      "execution_count": null,
      "id": "HBVDkmkf-H6A",
      "metadata": {
        "colab": {
          "base_uri": "https://localhost:8080/"
        },
        "id": "HBVDkmkf-H6A",
        "outputId": "7485519f-dd30-4967-cd4a-9481fd01ce35"
      },
      "outputs": [
        {
          "name": "stdout",
          "output_type": "stream",
          "text": [
            "Given array:\n",
            "[[0.44786078 0.15534269 0.24651874 0.99115555 0.54234152 0.41757131\n",
            "  0.14962484 0.38986986 0.4102397  0.76104854 0.8983896 ]\n",
            " [0.83232128 0.07990936 0.39157979 0.86575266 0.06858586 0.14580804\n",
            "  0.47769241 0.74216866 0.42268304 0.49321692 0.10187964]\n",
            " [0.61401112 0.80142883 0.64789267 0.93426373 0.08194462 0.1586641\n",
            "  0.84670098 0.416248   0.48273303 0.50383302 0.28886505]\n",
            " [0.90945008 0.71903677 0.81377587 0.35201422 0.94408444 0.86356222\n",
            "  0.87812839 0.48848014 0.16226818 0.47891493 0.71454783]\n",
            " [0.80892631 0.50537221 0.93261191 0.4822075  0.49434001 0.37062643\n",
            "  0.38197229 0.62606889 0.2400379  0.05412323 0.52142084]\n",
            " [0.64931821 0.85128614 0.23951669 0.65350555 0.41541208 0.94297836\n",
            "  0.6252844  0.43122237 0.90242211 0.22513297 0.28909933]\n",
            " [0.67697317 0.4874407  0.11393142 0.37239386 0.04024381 0.06314794\n",
            "  0.65924297 0.54553969 0.54592928 0.85935348 0.26941952]\n",
            " [0.1178882  0.65094774 0.8283163  0.05105667 0.14241712 0.66719866\n",
            "  0.03019193 0.86502041 0.12268196 0.83984923 0.64391224]\n",
            " [0.11085773 0.78792752 0.60656564 0.37988817 0.90054694 0.3735398\n",
            "  0.93837454 0.98985722 0.5210426  0.63465121 0.56316308]\n",
            " [0.83148175 0.23120704 0.23310014 0.82317668 0.42015941 0.37777259\n",
            "  0.90985827 0.19822098 0.31128331 0.6610148  0.60055179]]\n",
            "\n",
            "Maximum values of each column:\n",
            "[0.90945008 0.85128614 0.93261191 0.99115555 0.94408444 0.94297836\n",
            " 0.93837454 0.98985722 0.90242211 0.85935348 0.8983896 ]\n"
          ]
        }
      ],
      "source": [
        "Z = np.random.random((10,11))\n",
        "\n",
        "# Include your solution below\n",
        "print(\"Given array:\")\n",
        "print(Z)\n",
        "max_along_columns = Z.max(axis=0) #maximum values of each column\n",
        "print(\"\\nMaximum values of each column:\")\n",
        "print(max_along_columns) "
      ]
    },
    {
      "cell_type": "markdown",
      "id": "Liu-iyHJ-H6A",
      "metadata": {
        "id": "Liu-iyHJ-H6A"
      },
      "source": [
        "**10. Create a $7 \\times 7$ array with 1s on the borders (first row and column, last row and columns) and 0s everywhere else**"
      ]
    },
    {
      "cell_type": "code",
      "execution_count": null,
      "id": "vNTjHv4c-H6A",
      "metadata": {
        "colab": {
          "base_uri": "https://localhost:8080/"
        },
        "id": "vNTjHv4c-H6A",
        "outputId": "2bf35dd2-28f5-4063-dd03-fbc1ebe1a5e9"
      },
      "outputs": [
        {
          "name": "stdout",
          "output_type": "stream",
          "text": [
            "7X7 array with 1s on the borders and 0s everywhere else:\n",
            "[[1. 1. 1. 1. 1. 1. 1.]\n",
            " [1. 0. 0. 0. 0. 0. 1.]\n",
            " [1. 0. 0. 0. 0. 0. 1.]\n",
            " [1. 0. 0. 0. 0. 0. 1.]\n",
            " [1. 0. 0. 0. 0. 0. 1.]\n",
            " [1. 0. 0. 0. 0. 0. 1.]\n",
            " [1. 1. 1. 1. 1. 1. 1.]]\n"
          ]
        }
      ],
      "source": [
        "Z = np.ones((7,7)) #7X7 array of 1s\n",
        "Z[1:-1,1:-1] = 0 #putting 0 on non-border elements \n",
        "print(\"7X7 array with 1s on the borders and 0s everywhere else:\")\n",
        "print(Z)"
      ]
    },
    {
      "cell_type": "markdown",
      "id": "okuPWzil-H6A",
      "metadata": {
        "id": "okuPWzil-H6A"
      },
      "source": [
        "**11. Pad the existing array below with zeros (i.e., add additional rows and columns with zeros). Use the NumPy pad function.**"
      ]
    },
    {
      "cell_type": "code",
      "execution_count": null,
      "id": "4xBDSeGR-H6B",
      "metadata": {
        "colab": {
          "base_uri": "https://localhost:8080/"
        },
        "id": "4xBDSeGR-H6B",
        "outputId": "d40e4d83-1cd1-4c69-f756-b1b9bdcc615c"
      },
      "outputs": [
        {
          "name": "stdout",
          "output_type": "stream",
          "text": [
            "Given array:\n",
            "[[1. 1. 1. 1. 1.]\n",
            " [1. 1. 1. 1. 1.]\n",
            " [1. 1. 1. 1. 1.]\n",
            " [1. 1. 1. 1. 1.]\n",
            " [1. 1. 1. 1. 1.]]\n",
            "\n",
            "After padding 0s:\n",
            "[[0. 0. 0. 0. 0. 0. 0.]\n",
            " [0. 1. 1. 1. 1. 1. 0.]\n",
            " [0. 1. 1. 1. 1. 1. 0.]\n",
            " [0. 1. 1. 1. 1. 1. 0.]\n",
            " [0. 1. 1. 1. 1. 1. 0.]\n",
            " [0. 1. 1. 1. 1. 1. 0.]\n",
            " [0. 0. 0. 0. 0. 0. 0.]]\n"
          ]
        }
      ],
      "source": [
        "Z = np.ones((5,5))\n",
        "# Include your solution below\n",
        "print(\"Given array:\")\n",
        "print(Z)\n",
        "\n",
        "#defining pad width (for example, we considered pad_width of 1)\n",
        "additional_row_up = 1 #number of padded row above\n",
        "additional_row_down = 1 #number of padded row below\n",
        "additional_col_left = 1 #number of padded column right\n",
        "additional_col_right = 1 #number of padded column left\n",
        "\n",
        "#defining the value to pad with\n",
        "additional_element_value = 0 # here we are padding with 0\n",
        "\n",
        "Z = np.pad(Z,pad_width=((additional_row_up,additional_row_down),(additional_col_left,additional_col_right)),constant_values=((additional_element_value,additional_element_value),))\n",
        "print(\"\\nAfter padding %ds:\" % additional_element_value)\n",
        "print(Z)"
      ]
    },
    {
      "cell_type": "markdown",
      "id": "bY5Ii1i--H6B",
      "metadata": {
        "id": "bY5Ii1i--H6B"
      },
      "source": [
        "**12. Extract the integer part of the random array of positive numbers below**\n",
        "\n"
      ]
    },
    {
      "cell_type": "code",
      "execution_count": null,
      "id": "f9dj2sIe-H6B",
      "metadata": {
        "colab": {
          "base_uri": "https://localhost:8080/"
        },
        "id": "f9dj2sIe-H6B",
        "outputId": "b459a251-b937-4150-a53c-2d94c4b944e4"
      },
      "outputs": [
        {
          "name": "stdout",
          "output_type": "stream",
          "text": [
            "Given array:\n",
            "[8.48254099 8.45903614 9.27454286 7.32755057 0.1918985  9.94861524\n",
            " 5.56383468 9.27377012 6.96176696 2.14495632]\n",
            "\n",
            "Integar parts extracted from the array:\n",
            "[8 8 9 7 0 9 5 9 6 2]\n"
          ]
        }
      ],
      "source": [
        "Z = np.random.uniform(0,10,10)\n",
        "# Include your solution below\n",
        "print(\"Given array:\")\n",
        "print(Z)\n",
        "Z_int = Z.astype(int)\n",
        "print(\"\\nIntegar parts extracted from the array:\")\n",
        "print(Z_int)"
      ]
    },
    {
      "cell_type": "markdown",
      "id": "8Qm6dSCC-H6B",
      "metadata": {
        "id": "8Qm6dSCC-H6B"
      },
      "source": [
        "**13. Create a 5x5 matrix with rows with equal values ranging from 0 to 4 (i.e., [0,1,2,3,4])**\n",
        "\n",
        "*Hint:* consider using NumPy broadcasting or the tile function*"
      ]
    },
    {
      "cell_type": "code",
      "execution_count": null,
      "id": "sE6s3SzR-H6C",
      "metadata": {
        "colab": {
          "base_uri": "https://localhost:8080/"
        },
        "id": "sE6s3SzR-H6C",
        "outputId": "62e6a148-8b70-42c7-c84a-84ce230202ce"
      },
      "outputs": [
        {
          "name": "stdout",
          "output_type": "stream",
          "text": [
            "5 X 5 matrix with rows ranging from 0 to 4:\n",
            "[[0 1 2 3 4]\n",
            " [0 1 2 3 4]\n",
            " [0 1 2 3 4]\n",
            " [0 1 2 3 4]\n",
            " [0 1 2 3 4]]\n"
          ]
        }
      ],
      "source": [
        "dimension = 5 #for 5X5 array\n",
        "a = np.arange(0,dimension) # 1D array with elements 0 to 4\n",
        "Z = np.tile(a, (dimension, 1)) # preparing 2D (5X5) array with row similar to 1D (1X5) array\n",
        "print(\"%d X %d matrix with rows ranging from 0 to %d:\" % (dimension, dimension, dimension-1)) \n",
        "print(Z)"
      ]
    },
    {
      "cell_type": "markdown",
      "id": "oc3Trk0S-H6C",
      "metadata": {
        "id": "oc3Trk0S-H6C"
      },
      "source": [
        "**14. Create a vector of size 10 with values ranging from 0 to 1 (0 and 1 not included)**\n",
        "\n",
        "*Hint: Consider using the linspace function*"
      ]
    },
    {
      "cell_type": "code",
      "execution_count": null,
      "id": "TV2Nu1dq-H6D",
      "metadata": {
        "colab": {
          "base_uri": "https://localhost:8080/"
        },
        "id": "TV2Nu1dq-H6D",
        "outputId": "39ea628d-6773-4d83-ec4c-24964a32adf6"
      },
      "outputs": [
        {
          "name": "stdout",
          "output_type": "stream",
          "text": [
            "Vector of size 10 with values in (0,1) range:\n",
            "[0.09090909 0.18181818 0.27272727 0.36363636 0.45454545 0.54545455\n",
            " 0.63636364 0.72727273 0.81818182 0.90909091]\n"
          ]
        }
      ],
      "source": [
        "a = np.linspace(start=0, stop=1, num=10+1, endpoint=False)[1:]  #if endpoint=True, stop is the last sample. Otherwise, it is not included.\n",
        "print(\"Vector of size 10 with values in (0,1) range:\")\n",
        "print(a)"
      ]
    },
    {
      "cell_type": "markdown",
      "id": "xmqXCihR-H6D",
      "metadata": {
        "id": "xmqXCihR-H6D"
      },
      "source": [
        "**15. Create a random vector of size 10 and sort it**"
      ]
    },
    {
      "cell_type": "code",
      "execution_count": null,
      "id": "bPytQZnO-H6D",
      "metadata": {
        "colab": {
          "base_uri": "https://localhost:8080/"
        },
        "id": "bPytQZnO-H6D",
        "outputId": "14ce969a-b281-48f8-bf3a-98e7274a7709"
      },
      "outputs": [
        {
          "name": "stdout",
          "output_type": "stream",
          "text": [
            "A random array of size 10:\n",
            "[0.63262393 0.9565052  0.14885442 0.62789399 0.34279225 0.28904862\n",
            " 0.32507985 0.1368909  0.89658089 0.6881541 ]\n",
            "After sorting:\n",
            "[0.1368909  0.14885442 0.28904862 0.32507985 0.34279225 0.62789399\n",
            " 0.63262393 0.6881541  0.89658089 0.9565052 ]\n"
          ]
        }
      ],
      "source": [
        "a = np.random.rand(10) #random array of size 10\n",
        "print(\"A random array of size 10:\")\n",
        "print(a)\n",
        "a = np.sort(a) #sorting the array\n",
        "print(\"After sorting:\")\n",
        "print(a)"
      ]
    },
    {
      "cell_type": "markdown",
      "id": "P3KebDLH-H6D",
      "metadata": {
        "id": "P3KebDLH-H6D"
      },
      "source": [
        "**16. Consider the cartesian coordinates below (X and Y), convert them to polar coordinates (R and T)**"
      ]
    },
    {
      "cell_type": "code",
      "execution_count": null,
      "id": "8OY56f8E-H6D",
      "metadata": {
        "colab": {
          "base_uri": "https://localhost:8080/"
        },
        "id": "8OY56f8E-H6D",
        "outputId": "a0755de7-7fa6-4cab-bc2c-67b7b741cbd6"
      },
      "outputs": [
        {
          "name": "stdout",
          "output_type": "stream",
          "text": [
            "Given cartesial coordinates (X,Y):\n",
            "[[0.53193663 0.47303603]\n",
            " [0.81569446 0.44071251]\n",
            " [0.95677122 0.6252309 ]\n",
            " [0.7405289  0.77102254]\n",
            " [0.47138165 0.66302592]\n",
            " [0.53609786 0.40243973]\n",
            " [0.32315268 0.50682346]\n",
            " [0.07068711 0.52745991]\n",
            " [0.98892946 0.2803471 ]\n",
            " [0.20232655 0.27483297]]\n",
            "\n",
            "Corresponding polar coordinates (R,T):\n",
            "[[[0.71184244 0.72685597]\n",
            "  [0.92713806 0.49535867]\n",
            "  [1.14294568 0.57881776]\n",
            "  [1.06904575 0.80556916]\n",
            "  [0.81351338 0.95275573]\n",
            "  [0.67034219 0.6439383 ]\n",
            "  [0.60108042 1.00318473]\n",
            "  [0.53217537 1.4375759 ]\n",
            "  [1.02789882 0.27623781]\n",
            "  [0.34127584 0.93619881]]]\n"
          ]
        }
      ],
      "source": [
        "Z = np.random.random((10,2))\n",
        "X,Y = Z[:,0], Z[:,1]\n",
        "# Include your solution below\n",
        "print(\"Given cartesial coordinates (X,Y):\")\n",
        "print(Z)\n",
        "\n",
        "# converting cartesian to polar coordinates\n",
        "R = np.sqrt(X**2 + Y**2)\n",
        "T = np.arctan2(Y, X)\n",
        "polar_coord = np.dstack((R,T))\n",
        "\n",
        "# printing polar points\n",
        "print(\"\\nCorresponding polar coordinates (R,T):\")\n",
        "#print(R)\n",
        "#print(T)\n",
        "print(polar_coord)"
      ]
    },
    {
      "cell_type": "markdown",
      "id": "59r_DF5Z-H6E",
      "metadata": {
        "id": "59r_DF5Z-H6E"
      },
      "source": [
        "**17. Create random vector of size 10 and replace the maximum value by 0**"
      ]
    },
    {
      "cell_type": "code",
      "execution_count": null,
      "id": "pPSOpKOK-H6E",
      "metadata": {
        "colab": {
          "base_uri": "https://localhost:8080/"
        },
        "id": "pPSOpKOK-H6E",
        "outputId": "05b9cc57-cb19-44f0-e714-ff67d4277b95"
      },
      "outputs": [
        {
          "name": "stdout",
          "output_type": "stream",
          "text": [
            "A random array of size 10:\n",
            "[0.11472675 0.16877425 0.38872526 0.43346232 0.22041387 0.98043591\n",
            " 0.46855936 0.51478269 0.23680676 0.72079732]\n",
            "\n",
            "After replacing the max value with 0:\n",
            "[0.11472675 0.16877425 0.38872526 0.43346232 0.22041387 0.\n",
            " 0.46855936 0.51478269 0.23680676 0.72079732]\n"
          ]
        }
      ],
      "source": [
        "a = np.random.rand(10) #random array of size 10\n",
        "print(\"A random array of size 10:\")\n",
        "print(a)\n",
        "\n",
        "max_val_index = np.argmax(a) #index of the max value\n",
        "a[max_val_index] = 0 # replacing the max value by 0 (putting 0 in max value index)\n",
        "\n",
        "print(\"\\nAfter replacing the max value with 0:\")\n",
        "print(a)"
      ]
    },
    {
      "cell_type": "markdown",
      "id": "cvb0iPkO-H6E",
      "metadata": {
        "id": "cvb0iPkO-H6E"
      },
      "source": [
        "**18. Find the nearest value from a given value (z) in an array (Z)**"
      ]
    },
    {
      "cell_type": "code",
      "execution_count": null,
      "id": "po-e8obN-H6E",
      "metadata": {
        "colab": {
          "base_uri": "https://localhost:8080/"
        },
        "id": "po-e8obN-H6E",
        "outputId": "706fa72c-ccc2-4236-8054-a813e5726156"
      },
      "outputs": [
        {
          "name": "stdout",
          "output_type": "stream",
          "text": [
            "Given array:\n",
            "[0.19745592 0.061205   0.75316364 0.96453296 0.84012535 0.15779222\n",
            " 0.78294566 0.52470442 0.33868334 0.05411812]\n",
            "\n",
            "Reference value:\n",
            "0.5\n",
            "\n",
            "Nearest value from array:\n",
            "0.524704422524014\n"
          ]
        }
      ],
      "source": [
        "Z = np.random.uniform(0,1,10)\n",
        "z = 0.5\n",
        "\n",
        "# Include your solution below\n",
        "print(\"Given array:\")\n",
        "print(Z)\n",
        "\n",
        "print(\"\\nReference value:\")\n",
        "print(z)\n",
        "\n",
        "diff_array = abs(Z-z) # taking difference from the reference value\n",
        "near_val_index = np.argmin(diff_array) #index of nearest value\n",
        "near_val = Z[near_val_index] # nearest value\n",
        "\n",
        "print(\"\\nNearest value from array:\")\n",
        "print(near_val)"
      ]
    },
    {
      "cell_type": "markdown",
      "id": "kiJaufgl-H6F",
      "metadata": {
        "id": "kiJaufgl-H6F"
      },
      "source": [
        "**19. Consider the vector [5, 4, 3, 2, 1], how to build a new vector with 3 consecutive zeros interleaved between each value?**"
      ]
    },
    {
      "cell_type": "code",
      "execution_count": null,
      "id": "u69kMaOD-H6F",
      "metadata": {
        "colab": {
          "base_uri": "https://localhost:8080/"
        },
        "id": "u69kMaOD-H6F",
        "outputId": "f329c7a7-10d6-4d56-f780-35e572a14a72"
      },
      "outputs": [
        {
          "name": "stdout",
          "output_type": "stream",
          "text": [
            "Original given array:\n",
            "[5 4 3 2 1]\n",
            "\n",
            "After inserting zeros:\n",
            "[5 0 0 0 4 0 0 0 3 0 0 0 2 0 0 0 1]\n"
          ]
        }
      ],
      "source": [
        "#Z = np.arange(5)[::-1]\n",
        "Z = np.arange(6)[1:][::-1] #Changed a little, the original array was [4,3,2,1,0]\n",
        "# Include your solution below\n",
        "print(\"Original given array:\")\n",
        "print(Z)\n",
        "\n",
        "value_to_insert = 0\n",
        "numer_of_value_to_insert = 3\n",
        "insert_index_array = (list(np.arange(1,len(Z)))*numer_of_value_to_insert)\n",
        "#print(insert_index_array)\n",
        "Z = np.insert(Z, insert_index_array, value_to_insert)\n",
        "\n",
        "print(\"\\nAfter inserting zeros:\")\n",
        "print(Z)"
      ]
    },
    {
      "cell_type": "markdown",
      "id": "Pfu73aAH-H6F",
      "metadata": {
        "id": "Pfu73aAH-H6F"
      },
      "source": [
        "**20. Consider an array of dimension (5,5,3), how to mulitply it element-wise by an array with dimensions (5,5) - i.e., (5,5,0)$\\times$(5,5), (5,5,1)$\\times$(5,5), (5,5,2)$\\times$(5,5)**"
      ]
    },
    {
      "cell_type": "code",
      "execution_count": null,
      "id": "Tj2oIqYj-H6F",
      "metadata": {
        "colab": {
          "base_uri": "https://localhost:8080/"
        },
        "id": "Tj2oIqYj-H6F",
        "outputId": "429811d3-62b3-415c-c2c7-ae5569a00983"
      },
      "outputs": [
        {
          "name": "stdout",
          "output_type": "stream",
          "text": [
            "A:\n",
            "[[[1. 1. 1.]\n",
            "  [1. 1. 1.]\n",
            "  [1. 1. 1.]\n",
            "  [1. 1. 1.]\n",
            "  [1. 1. 1.]]\n",
            "\n",
            " [[1. 1. 1.]\n",
            "  [1. 1. 1.]\n",
            "  [1. 1. 1.]\n",
            "  [1. 1. 1.]\n",
            "  [1. 1. 1.]]\n",
            "\n",
            " [[1. 1. 1.]\n",
            "  [1. 1. 1.]\n",
            "  [1. 1. 1.]\n",
            "  [1. 1. 1.]\n",
            "  [1. 1. 1.]]\n",
            "\n",
            " [[1. 1. 1.]\n",
            "  [1. 1. 1.]\n",
            "  [1. 1. 1.]\n",
            "  [1. 1. 1.]\n",
            "  [1. 1. 1.]]\n",
            "\n",
            " [[1. 1. 1.]\n",
            "  [1. 1. 1.]\n",
            "  [1. 1. 1.]\n",
            "  [1. 1. 1.]\n",
            "  [1. 1. 1.]]]\n",
            "\n",
            "B:\n",
            "[[2. 2. 2. 2. 2.]\n",
            " [2. 2. 2. 2. 2.]\n",
            " [2. 2. 2. 2. 2.]\n",
            " [2. 2. 2. 2. 2.]\n",
            " [2. 2. 2. 2. 2.]]\n",
            "\n",
            "After multiplication:\n",
            "[[[2. 2. 2.]\n",
            "  [2. 2. 2.]\n",
            "  [2. 2. 2.]\n",
            "  [2. 2. 2.]\n",
            "  [2. 2. 2.]]\n",
            "\n",
            " [[2. 2. 2.]\n",
            "  [2. 2. 2.]\n",
            "  [2. 2. 2.]\n",
            "  [2. 2. 2.]\n",
            "  [2. 2. 2.]]\n",
            "\n",
            " [[2. 2. 2.]\n",
            "  [2. 2. 2.]\n",
            "  [2. 2. 2.]\n",
            "  [2. 2. 2.]\n",
            "  [2. 2. 2.]]\n",
            "\n",
            " [[2. 2. 2.]\n",
            "  [2. 2. 2.]\n",
            "  [2. 2. 2.]\n",
            "  [2. 2. 2.]\n",
            "  [2. 2. 2.]]\n",
            "\n",
            " [[2. 2. 2.]\n",
            "  [2. 2. 2.]\n",
            "  [2. 2. 2.]\n",
            "  [2. 2. 2.]\n",
            "  [2. 2. 2.]]]\n"
          ]
        }
      ],
      "source": [
        "A = np.ones((5,5,3))\n",
        "#A = np.ones((3,5,5))\n",
        "B = 2*np.ones((5,5))\n",
        "# Include your solution below\n",
        "print(\"A:\")\n",
        "print(A)\n",
        "print(\"\\nB:\")\n",
        "print(B)\n",
        "\n",
        "M = (A.transpose() * B.transpose() ).transpose() #multiplying A and B\n",
        "#M = A * B\n",
        "print(\"\\nAfter multiplication:\")\n",
        "print(M)"
      ]
    },
    {
      "cell_type": "markdown",
      "id": "Em-Fg1uK-H6F",
      "metadata": {
        "id": "Em-Fg1uK-H6F"
      },
      "source": [
        "**21. Swap the first and second rows of the 2D array below**"
      ]
    },
    {
      "cell_type": "code",
      "execution_count": null,
      "id": "LgF7Dnkz-H6G",
      "metadata": {
        "colab": {
          "base_uri": "https://localhost:8080/"
        },
        "id": "LgF7Dnkz-H6G",
        "outputId": "10dcf163-3efb-4cea-c43e-d3fbc534c6e7"
      },
      "outputs": [
        {
          "name": "stdout",
          "output_type": "stream",
          "text": [
            "Original array:\n",
            "[[ 0  1  2  3  4]\n",
            " [ 5  6  7  8  9]\n",
            " [10 11 12 13 14]\n",
            " [15 16 17 18 19]\n",
            " [20 21 22 23 24]\n",
            " [25 26 27 28 29]]\n",
            "\n",
            "After swaping 1-th and 2-th rows:\n",
            "[[ 5  6  7  8  9]\n",
            " [ 0  1  2  3  4]\n",
            " [10 11 12 13 14]\n",
            " [15 16 17 18 19]\n",
            " [20 21 22 23 24]\n",
            " [25 26 27 28 29]]\n"
          ]
        }
      ],
      "source": [
        "W = np.arange(30).reshape(6,5)\n",
        "print(\"Original array:\")\n",
        "print(W)\n",
        "print()\n",
        "# Include your solution below\n",
        "\n",
        "# Defining the rows to be swapped\n",
        "row1 = 0 # first row\n",
        "row2 = 1 # second row\n",
        "W[[row1, row2]] = W[[row2, row1]] # swapping\n",
        "\n",
        "print(\"After swaping %d-th and %d-th rows:\" % (row1+1,row2+1))\n",
        "print(W)"
      ]
    },
    {
      "cell_type": "markdown",
      "id": "sEUMSM1x-H6G",
      "metadata": {
        "id": "sEUMSM1x-H6G"
      },
      "source": [
        "**22. Write a function that receives as input a 2D Boolean NumPy array and outputs the coordinates of the minimal bounding-box\n",
        "that encloses all non-zero elements in the input array**\n",
        "\n",
        "**Tip:** search for the functions nonzero and where in the NumPy documentation.\n",
        "\n",
        "\n",
        "<img src=\"https://github.com/rmsouza01/ENEL645/blob/master/Figures/bbox.png?raw=1\" width=\"150\" /> "
      ]
    },
    {
      "cell_type": "code",
      "execution_count": null,
      "id": "sPahmq_V-H6G",
      "metadata": {
        "colab": {
          "base_uri": "https://localhost:8080/"
        },
        "id": "sPahmq_V-H6G",
        "outputId": "480bb868-a0f4-4846-de07-2169374a576d"
      },
      "outputs": [
        {
          "name": "stdout",
          "output_type": "stream",
          "text": [
            "Coordinates of the minimum bounding-box enclosing all non-zeros:\n",
            "((0, 0), (219, 193))\n"
          ]
        }
      ],
      "source": [
        "def bbox(img):\n",
        "    #include your solution below\n",
        "    img_non_zero = np.where(img!=0) # non-zero element\n",
        "    #print(img_non_zero)\n",
        "    r1 = np.min(img_non_zero[0])\n",
        "    r2 = np.max(img_non_zero[0])\n",
        "    c1 =  np.min(img_non_zero[1])\n",
        "    c2 =  np.max(img_non_zero[1])\n",
        "    return (r1,c1),(r2,c2)\n",
        "\n",
        "\n",
        "from PIL import Image\n",
        "\n",
        "#img = np.array(Image.open('../Figures/bin_image.png').convert('L')) > 0\n",
        "img = np.array(Image.open('/content/ENEL645/Figures/bbox.png').convert('L')) >0\n",
        "\n",
        "print(\"Coordinates of the minimum bounding-box enclosing all non-zeros:\")\n",
        "print(bbox(img))\n",
        "\n",
        "\n",
        "## Self-made array for testing purpose\n",
        "#x = np.zeros((7,7))\n",
        "#x[1:-1,1:-1] = 1\n",
        "#x[:,1] = 0\n",
        "#x[:,5] = 0\n",
        "#print(x)\n",
        "#print(bbox(x))"
      ]
    },
    {
      "cell_type": "markdown",
      "id": "6phmDhI8-H6G",
      "metadata": {
        "id": "6phmDhI8-H6G"
      },
      "source": [
        "**23.Write a function to compute the average over a sliding window of length N over a 1D array?**\n",
        "\n",
        "*Example:* [1,2,3,4,5,6,7,8,9], N = 3 -> [2,5,8]"
      ]
    },
    {
      "cell_type": "code",
      "execution_count": null,
      "id": "XJz-gN80-H6G",
      "metadata": {
        "colab": {
          "base_uri": "https://localhost:8080/"
        },
        "id": "XJz-gN80-H6G",
        "outputId": "e633006b-d232-4d47-e4a6-9cf30a8c587e"
      },
      "outputs": [
        {
          "name": "stdout",
          "output_type": "stream",
          "text": [
            "Given array:\n",
            "[ 0  1  2  3  4  5  6  7  8  9 10 11 12 13 14 15 16 17 18 19 20 21 22 23\n",
            " 24 25 26 27 28 29]\n",
            "\n",
            "Moving avg over a sliding window of len 3:\n",
            "[ 1.  4.  7. 10. 13. 16. 19. 22. 25. 28.]\n"
          ]
        }
      ],
      "source": [
        "'''def moving_average(x,N = 3):\n",
        "    #define your function here\n",
        "    i = 0\n",
        "    m_avg_list = []\n",
        "    while(i<len(x)):\n",
        "      m_avg_list.append(np.average(x[i:i+N]))\n",
        "      i = i + N\n",
        "    return(m_avg_list)''' \n",
        "\n",
        "import numpy as np\n",
        "\n",
        "## Avoiding Explicit Python Loops\n",
        "def moving_average(x,N = 3):\n",
        "  return np.add.reduceat(x, np.arange(0, len(x), N)) / N  #Reference (Documentation of reduceat): https://numpy.org/doc/stable/reference/generated/numpy.ufunc.reduceat.html\n",
        "\n",
        "#a = np.arange(1,10)\n",
        "a = np.arange(30)\n",
        "print(\"Given array:\")\n",
        "print(a)\n",
        "\n",
        "N = 3\n",
        "print(\"\\nMoving avg over a sliding window of len %d:\" % N)\n",
        "print(moving_average(a,N))"
      ]
    },
    {
      "cell_type": "markdown",
      "id": "3qg1D9lA-H6H",
      "metadata": {
        "id": "3qg1D9lA-H6H"
      },
      "source": [
        "**24.  Given a sorted 1D array C that corresponds to a bincount, how to produce an array A such that np.bincount(A) == C?**\n",
        "\n",
        "*Example:* C = [3,2,4] -> D = [0,0,0,1,1,2,2,2,2]\n",
        "\n",
        "*Tip:* Consider using the NumPy repeat function"
      ]
    },
    {
      "cell_type": "code",
      "execution_count": null,
      "id": "mSriafRv-H6H",
      "metadata": {
        "colab": {
          "base_uri": "https://localhost:8080/"
        },
        "id": "mSriafRv-H6H",
        "outputId": "5a5e04d8-9c3b-4b2f-feaf-224c71ed64a5"
      },
      "outputs": [
        {
          "name": "stdout",
          "output_type": "stream",
          "text": [
            "Given array C:\n",
            "[0 2 1 1 2 0 1]\n",
            "\n",
            "Output A:\n",
            "[1 1 2 3 4 4 6]\n"
          ]
        }
      ],
      "source": [
        "C = np.bincount([1,1,2,3,4,4,6])\n",
        "print(\"Given array C:\")\n",
        "print(C)\n",
        "# Include yoru solution here\n",
        "#C = np.array([3,2,4])\n",
        "print(\"\\nOutput A:\")\n",
        "A = np.repeat(np.arange(C.size), C) \n",
        "print(A)"
      ]
    },
    {
      "cell_type": "markdown",
      "id": "mKdkOXiT-H6H",
      "metadata": {
        "id": "mKdkOXiT-H6H"
      },
      "source": [
        "**25. Find the most frequent value in the array below?**"
      ]
    },
    {
      "cell_type": "code",
      "execution_count": null,
      "id": "ft_Nu299-H6H",
      "metadata": {
        "colab": {
          "base_uri": "https://localhost:8080/"
        },
        "id": "ft_Nu299-H6H",
        "outputId": "d6a5a0b6-b319-4576-8c1b-6b41a90734ee"
      },
      "outputs": [
        {
          "name": "stdout",
          "output_type": "stream",
          "text": [
            "Given array:\n",
            "[8 6 0 9 4 3 9 4 2 0 1 0 2 5 1 5 2 6 6 7 9 0 8 4 6 9 5 4 8 7 8 4 6 9 0 1 4\n",
            " 2 9 8 5 0 4 4 3 8 2 4 0 9]\n",
            "\n",
            "Most frequent value:\n",
            "4\n"
          ]
        }
      ],
      "source": [
        "Z = np.random.randint(0,10,50)\n",
        "# Include your solution below\n",
        "print(\"Given array:\")\n",
        "print(Z)\n",
        "\n",
        "\n",
        "'''\n",
        "## 'bincount' cannot handle negative number \n",
        "\n",
        "most_frequent = np.bincount(Z).argmax()\n",
        "print(\"Most frequent value:\")\n",
        "print(most_frequent)\n",
        "'''\n",
        "\n",
        "from collections import Counter\n",
        "count = Counter(Z)\n",
        "most_frequent = count.most_common(1)[0][0]\n",
        "#print(count)\n",
        "print(\"\\nMost frequent value:\")\n",
        "print(most_frequent)"
      ]
    },
    {
      "cell_type": "markdown",
      "id": "orOtA2xO-H6H",
      "metadata": {
        "id": "orOtA2xO-H6H"
      },
      "source": [
        "**26. Write a function to return the n largest values of an array** "
      ]
    },
    {
      "cell_type": "code",
      "execution_count": null,
      "id": "BQztyUb6-H6H",
      "metadata": {
        "colab": {
          "base_uri": "https://localhost:8080/"
        },
        "id": "BQztyUb6-H6H",
        "outputId": "34fe9b37-bf20-40ea-fe9d-aedd22241555"
      },
      "outputs": [
        {
          "name": "stdout",
          "output_type": "stream",
          "text": [
            "Given array:\n",
            "[   0    1    2 ... 9997 9998 9999]\n",
            "\n",
            "5 largest values:\n",
            "[9995 9996 9997 9998 9999]\n"
          ]
        }
      ],
      "source": [
        "def nlargest(a,n = 5):\n",
        "    # Include your solution here\n",
        "    a = np.sort(a) #sorting the array in increasing order\n",
        "    return a[-n:] #taking last n (largest) numbers of the sorted array\n",
        "\n",
        "Z = np.arange(10000)\n",
        "print(\"Given array:\")\n",
        "print(Z)\n",
        "np.random.shuffle(Z)\n",
        "n = 5\n",
        "print(\"\\n%d largest values:\" % n)\n",
        "print(nlargest(Z,n))    "
      ]
    }
  ],
  "metadata": {
    "colab": {
      "collapsed_sections": [],
      "name": "assignment01-python-numpy-programming_Group4.ipynb",
      "provenance": []
    },
    "kernelspec": {
      "display_name": "Python 3",
      "language": "python",
      "name": "python3"
    },
    "language_info": {
      "codemirror_mode": {
        "name": "ipython",
        "version": 3
      },
      "file_extension": ".py",
      "mimetype": "text/x-python",
      "name": "python",
      "nbconvert_exporter": "python",
      "pygments_lexer": "ipython3",
      "version": "3.8.5"
    }
  },
  "nbformat": 4,
  "nbformat_minor": 5
}
